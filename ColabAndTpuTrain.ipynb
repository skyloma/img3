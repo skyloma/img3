{
  "nbformat": 4,
  "nbformat_minor": 0,
  "metadata": {
    "colab": {
      "name": "ColabAndTpuTrain.ipynb",
      "provenance": [],
      "collapsed_sections": [],
      "toc_visible": true,
      "include_colab_link": true
    },
    "kernelspec": {
      "name": "python3",
      "display_name": "Python 3"
    },
    "accelerator": "TPU"
  },
  "cells": [
    {
      "cell_type": "markdown",
      "metadata": {
        "id": "view-in-github",
        "colab_type": "text"
      },
      "source": [
        "<a href=\"https://colab.research.google.com/github/skyloma/img2/blob/master/ColabAndTpuTrain.ipynb\" target=\"_parent\"><img src=\"https://colab.research.google.com/assets/colab-badge.svg\" alt=\"Open In Colab\"/></a>"
      ]
    },
    {
      "cell_type": "markdown",
      "metadata": {
        "id": "Nboig2LZ8I0v",
        "colab_type": "text"
      },
      "source": [
        "# 授权访问google cloud partform"
      ]
    },
    {
      "cell_type": "code",
      "metadata": {
        "id": "OPld1XfVD5T9",
        "colab_type": "code",
        "outputId": "4f3a8be8-bf8b-425e-eb49-8ace80080cc4",
        "colab": {
          "base_uri": "https://localhost:8080/",
          "height": 152
        }
      },
      "source": [
        "from google.colab import auth\n",
        "auth.authenticate_user()\n",
        "\n",
        "\n",
        "bucket_name=\"gs://staging.lomasky8090.appspot.com\""
      ],
      "execution_count": 0,
      "outputs": [
        {
          "output_type": "stream",
          "text": [
            "WARNING:tensorflow:\n",
            "The TensorFlow contrib module will not be included in TensorFlow 2.0.\n",
            "For more information, please see:\n",
            "  * https://github.com/tensorflow/community/blob/master/rfcs/20180907-contrib-sunset.md\n",
            "  * https://github.com/tensorflow/addons\n",
            "  * https://github.com/tensorflow/io (for I/O related ops)\n",
            "If you depend on functionality not listed there, please file an issue.\n",
            "\n"
          ],
          "name": "stdout"
        }
      ]
    },
    {
      "cell_type": "code",
      "metadata": {
        "id": "zwRahiCHMVgU",
        "colab_type": "code",
        "outputId": "787112ae-8e66-4394-a568-ef6884fd24f9",
        "colab": {
          "base_uri": "https://localhost:8080/",
          "height": 34
        }
      },
      "source": [
        "project_id = 'lomasky8090'\n",
        "!gcloud config set project {project_id}"
      ],
      "execution_count": 0,
      "outputs": [
        {
          "output_type": "stream",
          "text": [
            "Updated property [core/project].\n"
          ],
          "name": "stdout"
        }
      ]
    },
    {
      "cell_type": "code",
      "metadata": {
        "id": "FM8bXzdILRXt",
        "colab_type": "code",
        "colab": {}
      },
      "source": [
        ""
      ],
      "execution_count": 0,
      "outputs": []
    },
    {
      "cell_type": "markdown",
      "metadata": {
        "id": "yeQsVXaJI5oS",
        "colab_type": "text"
      },
      "source": [
        "# github上加载models"
      ]
    },
    {
      "cell_type": "code",
      "metadata": {
        "id": "iRc0kpvzI3ir",
        "colab_type": "code",
        "outputId": "7e70cd1a-8c3a-41ee-cb99-e1bc6013e2e7",
        "colab": {
          "base_uri": "https://localhost:8080/",
          "height": 1000
        }
      },
      "source": [
        "!git clone https://github.com/skyloma/models.git  \n",
        "!apt-get install protobuf-compiler python-pil python-lxml python-tk\n",
        "!pip install Cython \n",
        "!cd models/research; protoc object_detection/protos/*.proto --python_out=."
      ],
      "execution_count": 0,
      "outputs": [
        {
          "output_type": "stream",
          "text": [
            "Cloning into 'models'...\n",
            "remote: Enumerating objects: 10, done.\u001b[K\n",
            "remote: Counting objects: 100% (10/10), done.\u001b[K\n",
            "remote: Compressing objects: 100% (7/7), done.\u001b[K\n",
            "remote: Total 2777 (delta 4), reused 8 (delta 3), pack-reused 2767\u001b[K\n",
            "Receiving objects: 100% (2777/2777), 281.14 MiB | 42.27 MiB/s, done.\n",
            "Resolving deltas: 100% (511/511), done.\n",
            "Checking out files: 100% (2641/2641), done.\n",
            "Reading package lists... Done\n",
            "Building dependency tree       \n",
            "Reading state information... Done\n",
            "protobuf-compiler is already the newest version (3.0.0-9.1ubuntu1).\n",
            "python-tk is already the newest version (2.7.16-2~18.04).\n",
            "The following additional packages will be installed:\n",
            "  python-bs4 python-chardet python-html5lib python-olefile\n",
            "  python-pkg-resources python-six python-webencodings\n",
            "Suggested packages:\n",
            "  python-genshi python-lxml-dbg python-lxml-doc python-pil-doc python-pil-dbg\n",
            "  python-setuptools\n",
            "The following NEW packages will be installed:\n",
            "  python-bs4 python-chardet python-html5lib python-lxml python-olefile\n",
            "  python-pil python-pkg-resources python-six python-webencodings\n",
            "0 upgraded, 9 newly installed, 0 to remove and 35 not upgraded.\n",
            "Need to get 1,818 kB of archives.\n",
            "After this operation, 7,688 kB of additional disk space will be used.\n",
            "Get:1 http://archive.ubuntu.com/ubuntu bionic/main amd64 python-bs4 all 4.6.0-1 [67.9 kB]\n",
            "Get:2 http://archive.ubuntu.com/ubuntu bionic/main amd64 python-pkg-resources all 39.0.1-2 [128 kB]\n",
            "Get:3 http://archive.ubuntu.com/ubuntu bionic/main amd64 python-chardet all 3.0.4-1 [80.3 kB]\n",
            "Get:4 http://archive.ubuntu.com/ubuntu bionic/main amd64 python-six all 1.11.0-2 [11.3 kB]\n",
            "Get:5 http://archive.ubuntu.com/ubuntu bionic/main amd64 python-webencodings all 0.5-2 [10.3 kB]\n",
            "Get:6 http://archive.ubuntu.com/ubuntu bionic/main amd64 python-html5lib all 0.999999999-1 [83.6 kB]\n",
            "Get:7 http://archive.ubuntu.com/ubuntu bionic-updates/main amd64 python-lxml amd64 4.2.1-1ubuntu0.1 [1,075 kB]\n",
            "Get:8 http://archive.ubuntu.com/ubuntu bionic/main amd64 python-olefile all 0.45.1-1 [33.2 kB]\n",
            "Get:9 http://archive.ubuntu.com/ubuntu bionic/main amd64 python-pil amd64 5.1.0-1 [328 kB]\n",
            "Fetched 1,818 kB in 5s (403 kB/s)\n",
            "Selecting previously unselected package python-bs4.\n",
            "(Reading database ... 132684 files and directories currently installed.)\n",
            "Preparing to unpack .../0-python-bs4_4.6.0-1_all.deb ...\n",
            "Unpacking python-bs4 (4.6.0-1) ...\n",
            "Selecting previously unselected package python-pkg-resources.\n",
            "Preparing to unpack .../1-python-pkg-resources_39.0.1-2_all.deb ...\n",
            "Unpacking python-pkg-resources (39.0.1-2) ...\n",
            "Selecting previously unselected package python-chardet.\n",
            "Preparing to unpack .../2-python-chardet_3.0.4-1_all.deb ...\n",
            "Unpacking python-chardet (3.0.4-1) ...\n",
            "Selecting previously unselected package python-six.\n",
            "Preparing to unpack .../3-python-six_1.11.0-2_all.deb ...\n",
            "Unpacking python-six (1.11.0-2) ...\n",
            "Selecting previously unselected package python-webencodings.\n",
            "Preparing to unpack .../4-python-webencodings_0.5-2_all.deb ...\n",
            "Unpacking python-webencodings (0.5-2) ...\n",
            "Selecting previously unselected package python-html5lib.\n",
            "Preparing to unpack .../5-python-html5lib_0.999999999-1_all.deb ...\n",
            "Unpacking python-html5lib (0.999999999-1) ...\n",
            "Selecting previously unselected package python-lxml:amd64.\n",
            "Preparing to unpack .../6-python-lxml_4.2.1-1ubuntu0.1_amd64.deb ...\n",
            "Unpacking python-lxml:amd64 (4.2.1-1ubuntu0.1) ...\n",
            "Selecting previously unselected package python-olefile.\n",
            "Preparing to unpack .../7-python-olefile_0.45.1-1_all.deb ...\n",
            "Unpacking python-olefile (0.45.1-1) ...\n",
            "Selecting previously unselected package python-pil:amd64.\n",
            "Preparing to unpack .../8-python-pil_5.1.0-1_amd64.deb ...\n",
            "Unpacking python-pil:amd64 (5.1.0-1) ...\n",
            "Setting up python-pkg-resources (39.0.1-2) ...\n",
            "Setting up python-six (1.11.0-2) ...\n",
            "Setting up python-bs4 (4.6.0-1) ...\n",
            "Setting up python-lxml:amd64 (4.2.1-1ubuntu0.1) ...\n",
            "Setting up python-olefile (0.45.1-1) ...\n",
            "Processing triggers for man-db (2.8.3-2ubuntu0.1) ...\n",
            "Setting up python-pil:amd64 (5.1.0-1) ...\n",
            "Setting up python-webencodings (0.5-2) ...\n",
            "Setting up python-chardet (3.0.4-1) ...\n",
            "Setting up python-html5lib (0.999999999-1) ...\n",
            "Requirement already satisfied: Cython in /usr/local/lib/python3.6/dist-packages (0.29.14)\n"
          ],
          "name": "stdout"
        }
      ]
    },
    {
      "cell_type": "markdown",
      "metadata": {
        "id": "32tofuY1ytJl",
        "colab_type": "text"
      },
      "source": [
        "# 切换到目录research下进行训练"
      ]
    },
    {
      "cell_type": "code",
      "metadata": {
        "id": "-wC-Z2Rvfyga",
        "colab_type": "code",
        "outputId": "0e6896b7-84e1-47c1-b877-e1025bae0858",
        "colab": {
          "base_uri": "https://localhost:8080/",
          "height": 34
        }
      },
      "source": [
        "!pip install tensorboardcolab"
      ],
      "execution_count": 0,
      "outputs": [
        {
          "output_type": "stream",
          "text": [
            "Requirement already satisfied: tensorboardcolab in /usr/local/lib/python3.6/dist-packages (0.0.22)\n"
          ],
          "name": "stdout"
        }
      ]
    },
    {
      "cell_type": "code",
      "metadata": {
        "id": "Cm9whfBQlV2p",
        "colab_type": "code",
        "outputId": "aeceda8b-783d-45b3-8c04-2457fb76a615",
        "colab": {
          "base_uri": "https://localhost:8080/",
          "height": 84
        }
      },
      "source": [
        "\n",
        "from tensorboardcolab import TensorBoardColab\n",
        "tbc=TensorBoardColab(graph_path='gs://staging.lomasky8090.appspot.com/ssd224')"
      ],
      "execution_count": 0,
      "outputs": [
        {
          "output_type": "stream",
          "text": [
            "Using TensorFlow backend.\n"
          ],
          "name": "stderr"
        },
        {
          "output_type": "stream",
          "text": [
            "Wait for 8 seconds...\n",
            "TensorBoard link:\n",
            "https://629f2662.ngrok.io\n"
          ],
          "name": "stdout"
        }
      ]
    },
    {
      "cell_type": "code",
      "metadata": {
        "id": "TfzLAHDL1vOc",
        "colab_type": "code",
        "colab": {}
      },
      "source": [
        "\n",
        "!cd models/research; export PYTHONPATH=$PYTHONPATH:`pwd`:`pwd`/slim; python object_detection/model_tpu_main.py \\\n",
        "--pipeline_config_path=ssd128.config \\\n",
        "--model_dir=gs://staging.lomasky8090.appspot.com/ssd128 \\\n",
        "--num_train_steps=10000 \\\n",
        "--num_eval_steps=8000"
      ],
      "execution_count": 0,
      "outputs": []
    },
    {
      "cell_type": "code",
      "metadata": {
        "id": "7yZkc30AQHDJ",
        "colab_type": "code",
        "outputId": "c34e11fd-08f9-4b83-834d-5d8aa51a3b6d",
        "colab": {
          "base_uri": "https://localhost:8080/",
          "height": 34
        }
      },
      "source": [
        "! ls\n",
        "!tensorflow -version"
      ],
      "execution_count": 0,
      "outputs": [
        {
          "output_type": "stream",
          "text": [
            "adc.json  models  outdata  sample_data\n"
          ],
          "name": "stdout"
        }
      ]
    },
    {
      "cell_type": "markdown",
      "metadata": {
        "id": "_RHNjNGxWXbM",
        "colab_type": "text"
      },
      "source": [
        "# 导出训练生成的文件"
      ]
    },
    {
      "cell_type": "code",
      "metadata": {
        "id": "FmB8aDQ2fLUN",
        "colab_type": "code",
        "colab": {}
      },
      "source": [
        "!mkdir outdata\n",
        "bucket_name=\"gs://staging.lomasky8090.appspot.com\" \n",
        "!gsutil cp  -r {bucket_name}/tpu192  outdata/\n",
        "  \n",
        "# !gsutil cp  gs://{bucket_name}/data/pk_rmb.pbtxt A/\n",
        "  \n",
        "# !gsutil cp  gs://{bucket_name}/A/tflite_graph.pbtxt A/  "
      ],
      "execution_count": 0,
      "outputs": []
    },
    {
      "cell_type": "markdown",
      "metadata": {
        "id": "6XYNLLWBMAAq",
        "colab_type": "text"
      },
      "source": [
        "# 导出能转换成tflte的pb"
      ]
    },
    {
      "cell_type": "code",
      "metadata": {
        "id": "QCm2dKYrJg4_",
        "colab_type": "code",
        "colab": {}
      },
      "source": [
        "!mkdir outmodel\n",
        "!cd models/research; export PYTHONPATH=$PYTHONPATH:`pwd`:`pwd`/slim; python object_detection/export_tflite_ssd_graph.py \\\n",
        "--pipeline_config_path=object_detection/tpu192.config \\\n",
        "--trained_checkpoint_prefix=/content/outdata/tpu192/model.ckpt-50000 \\\n",
        "--output_directory=/content/outmodel/tpu92/ \\\n",
        "--add_postprocessing_op=true"
      ],
      "execution_count": 0,
      "outputs": []
    },
    {
      "cell_type": "markdown",
      "metadata": {
        "id": "Wgene9ty-w-d",
        "colab_type": "text"
      },
      "source": [
        "# 转换量化的tflite"
      ]
    },
    {
      "cell_type": "code",
      "metadata": {
        "id": "3eiRYurJMkye",
        "colab_type": "code",
        "colab": {}
      },
      "source": [
        "!tflite_convert \\\n",
        "  --graph_def_file=/content/outmodel/tpu192/tflite_graph.pb \\\n",
        "  --output_format=TFLITE \\\n",
        "  --output_file=/content/outmodel/tpu192/tflite_graph.tflite \\\n",
        "  --input_arrays=normalized_input_image_tensor \\\n",
        "  --output_arrays='TFLite_Detection_PostProcess','TFLite_Detection_PostProcess:1','TFLite_Detection_PostProcess:2','TFLite_Detection_PostProcess:3' \\\n",
        "  --input_shapes=1,192,192,3 \\\n",
        "  --inference_type=QUANTIZED_UINT8 \\\n",
        "  --mean_value=128 \\\n",
        "  --std_dev_values=128 \\\n",
        "  --default_ranges_min=0 \\\n",
        "  --default_ranges_max=6 \\\n",
        "  --change_concat_input_ranges=false \\\n",
        "  --allow_custom_ops\n",
        " "
      ],
      "execution_count": 0,
      "outputs": []
    },
    {
      "cell_type": "code",
      "metadata": {
        "id": "0ZlhfY8aEeo2",
        "colab_type": "code",
        "colab": {}
      },
      "source": [
        ""
      ],
      "execution_count": 0,
      "outputs": []
    },
    {
      "cell_type": "markdown",
      "metadata": {
        "id": "VOMgfFGD98nI",
        "colab_type": "text"
      },
      "source": [
        "# 下载模型到mytf4930工程 解压copy到gs://mytf_storage/data/"
      ]
    },
    {
      "cell_type": "code",
      "metadata": {
        "id": "GF2OiFCISBFL",
        "colab_type": "code",
        "outputId": "c37c5a3a-7086-45e5-c20c-645b3d79ca0e",
        "colab": {
          "base_uri": "https://localhost:8080/",
          "height": 341
        }
      },
      "source": [
        "# cd /tmp\n",
        "!curl -O http://download.tensorflow.org/models/object_detection/ssd_mobilenet_v1_0.75_depth_300x300_coco14_sync_2018_07_03.tar.gz\n",
        "!tar xzf ssd_mobilenet_v1_0.75_depth_300x300_coco14_sync_2018_07_03.tar.gz\n",
        "bucket_name=\"gs://lomasky8090.appspot.com\"\n",
        "!gsutil cp -r ssd_mobilenet_v1_0.75_depth_300x300_coco14_sync_2018_07_03  {bucket_name}/data/"
      ],
      "execution_count": 0,
      "outputs": [
        {
          "output_type": "stream",
          "text": [
            "  % Total    % Received % Xferd  Average Speed   Time    Time     Time  Current\n",
            "                                 Dload  Upload   Total   Spent    Left  Speed\n",
            "100 44.4M  100 44.4M    0     0   107M      0 --:--:-- --:--:-- --:--:--  107M\n",
            "Copying file://ssd_mobilenet_v1_0.75_depth_300x300_coco14_sync_2018_07_03/model.ckpt.meta [Content-Type=application/octet-stream]...\n",
            "Copying file://ssd_mobilenet_v1_0.75_depth_300x300_coco14_sync_2018_07_03/frozen_inference_graph.pb [Content-Type=application/octet-stream]...\n",
            "Copying file://ssd_mobilenet_v1_0.75_depth_300x300_coco14_sync_2018_07_03/pipeline.config [Content-Type=application/octet-stream]...\n",
            "Copying file://ssd_mobilenet_v1_0.75_depth_300x300_coco14_sync_2018_07_03/checkpoint [Content-Type=application/octet-stream]...\n",
            "\\ [4 files][ 20.7 MiB/ 20.7 MiB]                                                \n",
            "==> NOTE: You are performing a sequence of gsutil operations that may\n",
            "run significantly faster if you instead use gsutil -m cp ... Please\n",
            "see the -m section under \"gsutil help options\" for further information\n",
            "about when gsutil -m can be advantageous.\n",
            "\n",
            "Copying file://ssd_mobilenet_v1_0.75_depth_300x300_coco14_sync_2018_07_03/model.ckpt.data-00000-of-00001 [Content-Type=application/octet-stream]...\n",
            "Copying file://ssd_mobilenet_v1_0.75_depth_300x300_coco14_sync_2018_07_03/model.ckpt.index [Content-Type=application/octet-stream]...\n",
            "Copying file://ssd_mobilenet_v1_0.75_depth_300x300_coco14_sync_2018_07_03/saved_model/saved_model.pb [Content-Type=application/octet-stream]...\n",
            "/\n",
            "Operation completed over 7 objects/54.6 MiB.                                     \n"
          ],
          "name": "stdout"
        }
      ]
    },
    {
      "cell_type": "code",
      "metadata": {
        "id": "dLnM6XuLfhkx",
        "colab_type": "code",
        "colab": {}
      },
      "source": [
        "!ls "
      ],
      "execution_count": 0,
      "outputs": []
    },
    {
      "cell_type": "code",
      "metadata": {
        "id": "deCTrT6FXpss",
        "colab_type": "code",
        "colab": {}
      },
      "source": [
        "!git clone https://github.com/skyloma/img2.git  "
      ],
      "execution_count": 0,
      "outputs": []
    },
    {
      "cell_type": "code",
      "metadata": {
        "id": "t0NpTGkaD2O6",
        "colab_type": "code",
        "colab": {}
      },
      "source": [
        ""
      ],
      "execution_count": 0,
      "outputs": []
    },
    {
      "cell_type": "code",
      "metadata": {
        "id": "t9S3eFJTfp52",
        "colab_type": "code",
        "colab": {}
      },
      "source": [
        "!cd models/research; export PYTHONPATH=$PYTHONPATH:`pwd`:`pwd`/slim; python object_detection/xml_to_csv.py   --image_dir=/content/img2/"
      ],
      "execution_count": 0,
      "outputs": []
    },
    {
      "cell_type": "markdown",
      "metadata": {
        "id": "lTwrweg_YUhn",
        "colab_type": "text"
      },
      "source": [
        ""
      ]
    },
    {
      "cell_type": "code",
      "metadata": {
        "id": "4aGbmQTff3Pm",
        "colab_type": "code",
        "colab": {}
      },
      "source": [
        "%cd /content  \n",
        "!ls\n"
      ],
      "execution_count": 0,
      "outputs": []
    },
    {
      "cell_type": "code",
      "metadata": {
        "id": "KyBgWbLVmAxZ",
        "colab_type": "code",
        "colab": {}
      },
      "source": [
        "!mkdir data "
      ],
      "execution_count": 0,
      "outputs": []
    },
    {
      "cell_type": "code",
      "metadata": {
        "id": "4z9rXgFgfzSG",
        "colab_type": "code",
        "colab": {}
      },
      "source": [
        "!cd models/research; export PYTHONPATH=$PYTHONPATH:`pwd`:`pwd`/slim;python object_detection/generate_tfrecord.py \\\n",
        "    --csv_input=/content/img2/train_labels.csv \\\n",
        "    --image_dir=/content/img2/train \\\n",
        "    --output_path=/content/data/train.record  \n",
        "!cd models/research;  export PYTHONPATH=$PYTHONPATH:`pwd`:`pwd`/slim; python object_detection/generate_tfrecord.py \\\n",
        "    --csv_input=/content/img2/test_labels.csv \\\n",
        "    --image_dir=/content/img2/test \\\n",
        "    --output_path=/content/data/test.record  "
      ],
      "execution_count": 0,
      "outputs": []
    },
    {
      "cell_type": "code",
      "metadata": {
        "id": "tGdyPFuSHpfk",
        "colab_type": "code",
        "colab": {}
      },
      "source": [
        "%cd /content  \n",
        "!ls"
      ],
      "execution_count": 0,
      "outputs": []
    },
    {
      "cell_type": "code",
      "metadata": {
        "id": "VFl9cxUE_v_j",
        "colab_type": "code",
        "colab": {}
      },
      "source": [
        "!gsutil cp -r /content/data {bucket_name}\n",
        "!gsutil cp -r /content/models/research/object_detection/label.pbtxt {bucket_name}/data/ \n"
      ],
      "execution_count": 0,
      "outputs": []
    },
    {
      "cell_type": "code",
      "metadata": {
        "id": "cWcyNCFHpIg9",
        "colab_type": "code",
        "colab": {}
      },
      "source": [
        "# !rm -r data\n",
        "# !rm -r img2"
      ],
      "execution_count": 0,
      "outputs": []
    }
  ]
}