{
  "nbformat": 4,
  "nbformat_minor": 0,
  "metadata": {
    "colab": {
      "name": "ColabAndTpu.ipynb",
      "provenance": [],
      "include_colab_link": true
    },
    "kernelspec": {
      "name": "python3",
      "display_name": "Python 3"
    }
  },
  "cells": [
    {
      "cell_type": "markdown",
      "metadata": {
        "id": "view-in-github",
        "colab_type": "text"
      },
      "source": [
        "<a href=\"https://colab.research.google.com/github/skyloma/img2/blob/master/ColabAndTpu.ipynb\" target=\"_parent\"><img src=\"https://colab.research.google.com/assets/colab-badge.svg\" alt=\"Open In Colab\"/></a>"
      ]
    },
    {
      "cell_type": "markdown",
      "metadata": {
        "id": "Nboig2LZ8I0v",
        "colab_type": "text"
      },
      "source": [
        "# 授权访问google cloud partform"
      ]
    },
    {
      "cell_type": "code",
      "metadata": {
        "id": "OPld1XfVD5T9",
        "colab_type": "code",
        "colab": {}
      },
      "source": [
        "from google.colab import auth\n",
        "auth.authenticate_user()\n",
        "project_id = 'dreamer8090'\n",
        "!gcloud config set project {project_id}"
      ],
      "execution_count": 0,
      "outputs": []
    },
    {
      "cell_type": "markdown",
      "metadata": {
        "id": "yeQsVXaJI5oS",
        "colab_type": "text"
      },
      "source": [
        "# github上加载models"
      ]
    },
    {
      "cell_type": "code",
      "metadata": {
        "id": "iRc0kpvzI3ir",
        "colab_type": "code",
        "colab": {}
      },
      "source": [
        "!git clone https://github.com/tensorflow/models.git  \n",
        "!apt-get install protobuf-compiler python-pil python-lxml python-tk\n",
        "!pip install Cython\n",
        "\n",
        "#This creates a name_pb2.py file from every name.proto file in the \\object_detection\\protos folder.\n",
        "!cd models/research; protoc object_detection/protos/*.proto --python_out=."
      ],
      "execution_count": 0,
      "outputs": []
    },
    {
      "cell_type": "markdown",
      "metadata": {
        "id": "32tofuY1ytJl",
        "colab_type": "text"
      },
      "source": [
        "# 切换到目录research下进行训练"
      ]
    },
    {
      "cell_type": "code",
      "metadata": {
        "id": "Cm9whfBQlV2p",
        "colab_type": "code",
        "colab": {}
      },
      "source": [
        "from tensorboardcolab import TensorBoardColab\n",
        "tbc=TensorBoardColab(graph_path='gs://staging.dreamer8090.appspot.com/tpu128')"
      ],
      "execution_count": 0,
      "outputs": []
    },
    {
      "cell_type": "code",
      "metadata": {
        "id": "TfzLAHDL1vOc",
        "colab_type": "code",
        "colab": {}
      },
      "source": [
        "!export PYTHONPATH=$PYTHONPATH:`pwd`:`pwd`/slim; python object_detection/model_tpu_main.py \\\n",
        "--gcp_project=dreamer8090  \\\n",
        "--pipeline_config_path=tpu128.config \\\n",
        "--model_dir=gs://staging.dreamer8090.appspot.com/tpu128 \\\n",
        "--num_train_steps=100000 \\\n",
        "--num_eval_steps=8000"
      ],
      "execution_count": 0,
      "outputs": []
    },
    {
      "cell_type": "markdown",
      "metadata": {
        "id": "6XYNLLWBMAAq",
        "colab_type": "text"
      },
      "source": [
        "# 导出能转换成tflte的pb"
      ]
    },
    {
      "cell_type": "code",
      "metadata": {
        "id": "QCm2dKYrJg4_",
        "colab_type": "code",
        "colab": {}
      },
      "source": [
        "!export PYTHONPATH=$PYTHONPATH:`pwd`:`pwd`/slim; python object_detection/export_tflite_ssd_graph.py \\\n",
        "--pipeline_config_path=tpu128.config \\\n",
        "--trained_checkpoint_prefix=gs://staging.dreamer8090.appspot.com/data/tpu128/model.ckpt-50000 \\\n",
        "--output_directory=gs://staging.dreamer8090.appspot.com/outmodel/tpu128 \\\n",
        "--add_postprocessing_op=true"
      ],
      "execution_count": 0,
      "outputs": []
    },
    {
      "cell_type": "markdown",
      "metadata": {
        "id": "Wgene9ty-w-d",
        "colab_type": "text"
      },
      "source": [
        "# 转换量化的tflite"
      ]
    },
    {
      "cell_type": "code",
      "metadata": {
        "id": "3eiRYurJMkye",
        "colab_type": "code",
        "colab": {}
      },
      "source": [
        "!tflite_convert \\\n",
        "  --graph_def_file=/content/outmodel/tpu128/tflite_graph.pb \\\n",
        "  --output_format=TFLITE \\\n",
        "  --output_file=/content/outmodel/tpu128/tflite_graph.tflite \\\n",
        "  --input_arrays=normalized_input_image_tensor \\\n",
        "  --output_arrays='TFLite_Detection_PostProcess','TFLite_Detection_PostProcess:1','TFLite_Detection_PostProcess:2','TFLite_Detection_PostProcess:3' \\\n",
        "  --input_shapes=1,128,128,3 \\\n",
        "  --inference_type=QUANTIZED_UINT8 \\\n",
        "  --mean_value=128 \\\n",
        "  --std_dev_values=128 \\\n",
        "  --default_ranges_min=0 \\\n",
        "  --default_ranges_max=6 \\\n",
        "  --change_concat_input_ranges=false \\\n",
        "  --allow_custom_ops\n",
        " "
      ],
      "execution_count": 0,
      "outputs": []
    },
    {
      "cell_type": "code",
      "metadata": {
        "id": "0ZlhfY8aEeo2",
        "colab_type": "code",
        "colab": {}
      },
      "source": [
        ""
      ],
      "execution_count": 0,
      "outputs": []
    },
    {
      "cell_type": "markdown",
      "metadata": {
        "id": "VOMgfFGD98nI",
        "colab_type": "text"
      },
      "source": [
        "# 下载模型到mytf4930工程 解压copy到gs://mytf_storage/data/"
      ]
    },
    {
      "cell_type": "code",
      "metadata": {
        "id": "GF2OiFCISBFL",
        "colab_type": "code",
        "colab": {}
      },
      "source": [
        "# cd /tmp\n",
        "!curl -O http://download.tensorflow.org/models/object_detection/ssd_mobilenet_v1_quantized_300x300_coco14_sync_2018_07_18.tar.gz\n",
        "!tar xzf ssd_mobilenet_v1_quantized_300x300_coco14_sync_2018_07_18.tar.gz\n",
        "\n",
        "!gsutil cp -r ssd_mobilenet_v1_quantized_300x300_coco14_sync_2018_07_18/ gs://staging.dreamer8090.appspot.com/data/"
      ],
      "execution_count": 0,
      "outputs": []
    },
    {
      "cell_type": "code",
      "metadata": {
        "id": "dLnM6XuLfhkx",
        "colab_type": "code",
        "colab": {}
      },
      "source": [
        " "
      ],
      "execution_count": 0,
      "outputs": []
    },
    {
      "cell_type": "code",
      "metadata": {
        "id": "deCTrT6FXpss",
        "colab_type": "code",
        "colab": {}
      },
      "source": [
        "!git clone https://github.com/skyloma/img2.git  "
      ],
      "execution_count": 0,
      "outputs": []
    },
    {
      "cell_type": "code",
      "metadata": {
        "id": "t0NpTGkaD2O6",
        "colab_type": "code",
        "colab": {}
      },
      "source": [
        ""
      ],
      "execution_count": 0,
      "outputs": []
    },
    {
      "cell_type": "code",
      "metadata": {
        "id": "t9S3eFJTfp52",
        "colab_type": "code",
        "colab": {}
      },
      "source": [
        "!cd models/research; export PYTHONPATH=$PYTHONPATH:`pwd`:`pwd`/slim; python xml_to_csv.py   --image_dir=/content/img2/"
      ],
      "execution_count": 0,
      "outputs": []
    },
    {
      "cell_type": "markdown",
      "metadata": {
        "id": "lTwrweg_YUhn",
        "colab_type": "text"
      },
      "source": [
        ""
      ]
    },
    {
      "cell_type": "code",
      "metadata": {
        "id": "4aGbmQTff3Pm",
        "colab_type": "code",
        "outputId": "176359c7-8de7-440d-c185-789a0c1957fc",
        "colab": {
          "base_uri": "https://localhost:8080/",
          "height": 34
        }
      },
      "source": [
        "%cd /content  \n",
        "!ls\n"
      ],
      "execution_count": 0,
      "outputs": [
        {
          "output_type": "stream",
          "text": [
            "/content\n"
          ],
          "name": "stdout"
        }
      ]
    },
    {
      "cell_type": "code",
      "metadata": {
        "id": "KyBgWbLVmAxZ",
        "colab_type": "code",
        "colab": {}
      },
      "source": [
        "import os\n",
        "os.chdir(\"models/research\")"
      ],
      "execution_count": 0,
      "outputs": []
    },
    {
      "cell_type": "code",
      "metadata": {
        "id": "4z9rXgFgfzSG",
        "colab_type": "code",
        "colab": {}
      },
      "source": [
        "! export PYTHONPATH=$PYTHONPATH:`pwd`:`pwd`/slim;python object_detection/generate_tfrecord.py \\\n",
        "    --csv_input=/content/img2/train_labels.csv \\\n",
        "    --image_dir=/content/img2/train \\\n",
        "    --output_path=/content/data/train.record  \n",
        "!  export PYTHONPATH=$PYTHONPATH:`pwd`:`pwd`/slim; python object_detection/generate_tfrecord.py \\\n",
        "    --csv_input=/content/img2/test_labels.csv \\\n",
        "    --image_dir=/content/img2/test \\\n",
        "    --output_path=/content/data/test.record  "
      ],
      "execution_count": 0,
      "outputs": []
    },
    {
      "cell_type": "code",
      "metadata": {
        "id": "tGdyPFuSHpfk",
        "colab_type": "code",
        "colab": {}
      },
      "source": [
        "%cd /content  \n",
        "!ls"
      ],
      "execution_count": 0,
      "outputs": []
    },
    {
      "cell_type": "code",
      "metadata": {
        "id": "VFl9cxUE_v_j",
        "colab_type": "code",
        "colab": {}
      },
      "source": [
        "\n",
        "\n",
        "!gsutil cp -r /content/data {bucket_name}\n",
        "!gsutil cp -r /content/models/research/label/ {bucket_name}/data/ \n"
      ],
      "execution_count": 0,
      "outputs": []
    },
    {
      "cell_type": "code",
      "metadata": {
        "id": "cWcyNCFHpIg9",
        "colab_type": "code",
        "colab": {}
      },
      "source": [
        ""
      ],
      "execution_count": 0,
      "outputs": []
    },
    {
      "cell_type": "markdown",
      "metadata": {
        "id": "_RHNjNGxWXbM",
        "colab_type": "text"
      },
      "source": [
        "# 导出训练生成的文件"
      ]
    },
    {
      "cell_type": "code",
      "metadata": {
        "id": "FmB8aDQ2fLUN",
        "colab_type": "code",
        "colab": {}
      },
      "source": [
        "bucket_name=\"gs://staging.dreamer8090.appspot.com\"\n",
        "!gsutil cp  -r gs://staging.dreamer8090.appspot.com/tpu128  outdata/\n",
        "  \n",
        "# !gsutil cp  gs://{bucket_name}/data/pk_rmb.pbtxt A/\n",
        "  \n",
        "# !gsutil cp  gs://{bucket_name}/A/tflite_graph.pbtxt A/  "
      ],
      "execution_count": 0,
      "outputs": []
    }
  ]
}